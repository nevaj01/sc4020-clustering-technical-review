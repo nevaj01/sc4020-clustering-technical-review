{
 "cells": [
  {
   "cell_type": "code",
   "execution_count": 1,
   "id": "a484f468-71f3-4740-8ffd-cdca31a814ee",
   "metadata": {},
   "outputs": [],
   "source": [
    "import pandas as pd\n",
    "import numpy as np\n",
    "import matplotlib.pyplot as plt\n",
    "from sklearn.preprocessing import LabelEncoder, MinMaxScaler\n",
    "from cuml import KMeans\n",
    "from cuml.metrics.cluster import silhouette_score\n",
    "import time\n",
    "%matplotlib inline"
   ]
  },
  {
   "cell_type": "code",
   "execution_count": 2,
   "id": "ceb883f5-7217-49b4-a6a6-a4da5dfcacc0",
   "metadata": {},
   "outputs": [
    {
     "data": {
      "text/html": [
       "<div>\n",
       "<style scoped>\n",
       "    .dataframe tbody tr th:only-of-type {\n",
       "        vertical-align: middle;\n",
       "    }\n",
       "\n",
       "    .dataframe tbody tr th {\n",
       "        vertical-align: top;\n",
       "    }\n",
       "\n",
       "    .dataframe thead th {\n",
       "        text-align: right;\n",
       "    }\n",
       "</style>\n",
       "<table border=\"1\" class=\"dataframe\">\n",
       "  <thead>\n",
       "    <tr style=\"text-align: right;\">\n",
       "      <th></th>\n",
       "      <th>Temperature</th>\n",
       "      <th>Humidity</th>\n",
       "      <th>Wind Speed</th>\n",
       "      <th>Precipitation (%)</th>\n",
       "      <th>Cloud Cover</th>\n",
       "      <th>Atmospheric Pressure</th>\n",
       "      <th>UV Index</th>\n",
       "      <th>Season</th>\n",
       "      <th>Visibility (km)</th>\n",
       "      <th>Location</th>\n",
       "    </tr>\n",
       "  </thead>\n",
       "  <tbody>\n",
       "    <tr>\n",
       "      <th>0</th>\n",
       "      <td>14.0</td>\n",
       "      <td>73</td>\n",
       "      <td>9.5</td>\n",
       "      <td>82.0</td>\n",
       "      <td>partly cloudy</td>\n",
       "      <td>1010.82</td>\n",
       "      <td>2</td>\n",
       "      <td>Winter</td>\n",
       "      <td>3.5</td>\n",
       "      <td>inland</td>\n",
       "    </tr>\n",
       "    <tr>\n",
       "      <th>1</th>\n",
       "      <td>39.0</td>\n",
       "      <td>96</td>\n",
       "      <td>8.5</td>\n",
       "      <td>71.0</td>\n",
       "      <td>partly cloudy</td>\n",
       "      <td>1011.43</td>\n",
       "      <td>7</td>\n",
       "      <td>Spring</td>\n",
       "      <td>10.0</td>\n",
       "      <td>inland</td>\n",
       "    </tr>\n",
       "    <tr>\n",
       "      <th>2</th>\n",
       "      <td>30.0</td>\n",
       "      <td>64</td>\n",
       "      <td>7.0</td>\n",
       "      <td>16.0</td>\n",
       "      <td>clear</td>\n",
       "      <td>1018.72</td>\n",
       "      <td>5</td>\n",
       "      <td>Spring</td>\n",
       "      <td>5.5</td>\n",
       "      <td>mountain</td>\n",
       "    </tr>\n",
       "    <tr>\n",
       "      <th>3</th>\n",
       "      <td>38.0</td>\n",
       "      <td>83</td>\n",
       "      <td>1.5</td>\n",
       "      <td>82.0</td>\n",
       "      <td>clear</td>\n",
       "      <td>1026.25</td>\n",
       "      <td>7</td>\n",
       "      <td>Spring</td>\n",
       "      <td>1.0</td>\n",
       "      <td>coastal</td>\n",
       "    </tr>\n",
       "    <tr>\n",
       "      <th>4</th>\n",
       "      <td>27.0</td>\n",
       "      <td>74</td>\n",
       "      <td>17.0</td>\n",
       "      <td>66.0</td>\n",
       "      <td>overcast</td>\n",
       "      <td>990.67</td>\n",
       "      <td>1</td>\n",
       "      <td>Winter</td>\n",
       "      <td>2.5</td>\n",
       "      <td>mountain</td>\n",
       "    </tr>\n",
       "  </tbody>\n",
       "</table>\n",
       "</div>"
      ],
      "text/plain": [
       "   Temperature  Humidity  Wind Speed  Precipitation (%)    Cloud Cover  \\\n",
       "0         14.0        73         9.5               82.0  partly cloudy   \n",
       "1         39.0        96         8.5               71.0  partly cloudy   \n",
       "2         30.0        64         7.0               16.0          clear   \n",
       "3         38.0        83         1.5               82.0          clear   \n",
       "4         27.0        74        17.0               66.0       overcast   \n",
       "\n",
       "   Atmospheric Pressure  UV Index  Season  Visibility (km)  Location  \n",
       "0               1010.82         2  Winter              3.5    inland  \n",
       "1               1011.43         7  Spring             10.0    inland  \n",
       "2               1018.72         5  Spring              5.5  mountain  \n",
       "3               1026.25         7  Spring              1.0   coastal  \n",
       "4                990.67         1  Winter              2.5  mountain  "
      ]
     },
     "execution_count": 2,
     "metadata": {},
     "output_type": "execute_result"
    }
   ],
   "source": [
    "df = pd.read_csv(\"weather_classification_data.csv\")\n",
    "#drop weather type class label\n",
    "df = df.drop(['Weather Type'], axis=1)\n",
    "df.head()"
   ]
  },
  {
   "cell_type": "code",
   "execution_count": 3,
   "id": "a8d19a7a-8ca4-47f4-b8f3-700852f04d38",
   "metadata": {},
   "outputs": [
    {
     "data": {
      "text/plain": [
       "Temperature             0\n",
       "Humidity                0\n",
       "Wind Speed              0\n",
       "Precipitation (%)       0\n",
       "Cloud Cover             0\n",
       "Atmospheric Pressure    0\n",
       "UV Index                0\n",
       "Season                  0\n",
       "Visibility (km)         0\n",
       "Location                0\n",
       "dtype: int64"
      ]
     },
     "execution_count": 3,
     "metadata": {},
     "output_type": "execute_result"
    }
   ],
   "source": [
    "df.isnull().sum()"
   ]
  },
  {
   "cell_type": "code",
   "execution_count": 4,
   "id": "160d8b26-ee05-41ca-801f-30ce4e855109",
   "metadata": {},
   "outputs": [
    {
     "data": {
      "text/plain": [
       "(13200, 10)"
      ]
     },
     "execution_count": 4,
     "metadata": {},
     "output_type": "execute_result"
    }
   ],
   "source": [
    "df.shape"
   ]
  },
  {
   "cell_type": "code",
   "execution_count": 5,
   "id": "d7d781f3-fc3e-4a42-a6c9-f4a6787b448d",
   "metadata": {},
   "outputs": [
    {
     "name": "stdout",
     "output_type": "stream",
     "text": [
      "<class 'pandas.core.frame.DataFrame'>\n",
      "RangeIndex: 13200 entries, 0 to 13199\n",
      "Data columns (total 10 columns):\n",
      " #   Column                Non-Null Count  Dtype  \n",
      "---  ------                --------------  -----  \n",
      " 0   Temperature           13200 non-null  float64\n",
      " 1   Humidity              13200 non-null  int64  \n",
      " 2   Wind Speed            13200 non-null  float64\n",
      " 3   Precipitation (%)     13200 non-null  float64\n",
      " 4   Cloud Cover           13200 non-null  object \n",
      " 5   Atmospheric Pressure  13200 non-null  float64\n",
      " 6   UV Index              13200 non-null  int64  \n",
      " 7   Season                13200 non-null  object \n",
      " 8   Visibility (km)       13200 non-null  float64\n",
      " 9   Location              13200 non-null  object \n",
      "dtypes: float64(5), int64(2), object(3)\n",
      "memory usage: 1.0+ MB\n"
     ]
    }
   ],
   "source": [
    "df.info()"
   ]
  },
  {
   "cell_type": "code",
   "execution_count": 6,
   "id": "4c06b496-03ab-46b9-9e58-20d07510e82a",
   "metadata": {},
   "outputs": [
    {
     "data": {
      "text/plain": [
       "4"
      ]
     },
     "execution_count": 6,
     "metadata": {},
     "output_type": "execute_result"
    }
   ],
   "source": [
    "len(df['Cloud Cover'].unique())"
   ]
  },
  {
   "cell_type": "code",
   "execution_count": 7,
   "id": "6bd4a521-7727-43b3-9d5b-f1b20d75568c",
   "metadata": {},
   "outputs": [
    {
     "data": {
      "text/plain": [
       "4"
      ]
     },
     "execution_count": 7,
     "metadata": {},
     "output_type": "execute_result"
    }
   ],
   "source": [
    "len(df['Season'].unique())"
   ]
  },
  {
   "cell_type": "code",
   "execution_count": 8,
   "id": "d70ec44e-351a-4aea-9c6b-2846c0da866a",
   "metadata": {},
   "outputs": [
    {
     "data": {
      "text/plain": [
       "3"
      ]
     },
     "execution_count": 8,
     "metadata": {},
     "output_type": "execute_result"
    }
   ],
   "source": [
    "len(df['Location'].unique())"
   ]
  },
  {
   "cell_type": "code",
   "execution_count": 9,
   "id": "bc2bf91b-496d-4e4f-a634-8fc9ab0f6751",
   "metadata": {},
   "outputs": [
    {
     "data": {
      "text/html": [
       "<div>\n",
       "<style scoped>\n",
       "    .dataframe tbody tr th:only-of-type {\n",
       "        vertical-align: middle;\n",
       "    }\n",
       "\n",
       "    .dataframe tbody tr th {\n",
       "        vertical-align: top;\n",
       "    }\n",
       "\n",
       "    .dataframe thead th {\n",
       "        text-align: right;\n",
       "    }\n",
       "</style>\n",
       "<table border=\"1\" class=\"dataframe\">\n",
       "  <thead>\n",
       "    <tr style=\"text-align: right;\">\n",
       "      <th></th>\n",
       "      <th>Temperature</th>\n",
       "      <th>Humidity</th>\n",
       "      <th>Wind Speed</th>\n",
       "      <th>Precipitation (%)</th>\n",
       "      <th>Cloud Cover</th>\n",
       "      <th>Atmospheric Pressure</th>\n",
       "      <th>UV Index</th>\n",
       "      <th>Season</th>\n",
       "      <th>Visibility (km)</th>\n",
       "      <th>Location</th>\n",
       "    </tr>\n",
       "  </thead>\n",
       "  <tbody>\n",
       "    <tr>\n",
       "      <th>0</th>\n",
       "      <td>14.0</td>\n",
       "      <td>73</td>\n",
       "      <td>9.5</td>\n",
       "      <td>82.0</td>\n",
       "      <td>3</td>\n",
       "      <td>1010.82</td>\n",
       "      <td>2</td>\n",
       "      <td>3</td>\n",
       "      <td>3.5</td>\n",
       "      <td>1</td>\n",
       "    </tr>\n",
       "    <tr>\n",
       "      <th>1</th>\n",
       "      <td>39.0</td>\n",
       "      <td>96</td>\n",
       "      <td>8.5</td>\n",
       "      <td>71.0</td>\n",
       "      <td>3</td>\n",
       "      <td>1011.43</td>\n",
       "      <td>7</td>\n",
       "      <td>1</td>\n",
       "      <td>10.0</td>\n",
       "      <td>1</td>\n",
       "    </tr>\n",
       "    <tr>\n",
       "      <th>2</th>\n",
       "      <td>30.0</td>\n",
       "      <td>64</td>\n",
       "      <td>7.0</td>\n",
       "      <td>16.0</td>\n",
       "      <td>0</td>\n",
       "      <td>1018.72</td>\n",
       "      <td>5</td>\n",
       "      <td>1</td>\n",
       "      <td>5.5</td>\n",
       "      <td>2</td>\n",
       "    </tr>\n",
       "    <tr>\n",
       "      <th>3</th>\n",
       "      <td>38.0</td>\n",
       "      <td>83</td>\n",
       "      <td>1.5</td>\n",
       "      <td>82.0</td>\n",
       "      <td>0</td>\n",
       "      <td>1026.25</td>\n",
       "      <td>7</td>\n",
       "      <td>1</td>\n",
       "      <td>1.0</td>\n",
       "      <td>0</td>\n",
       "    </tr>\n",
       "    <tr>\n",
       "      <th>4</th>\n",
       "      <td>27.0</td>\n",
       "      <td>74</td>\n",
       "      <td>17.0</td>\n",
       "      <td>66.0</td>\n",
       "      <td>2</td>\n",
       "      <td>990.67</td>\n",
       "      <td>1</td>\n",
       "      <td>3</td>\n",
       "      <td>2.5</td>\n",
       "      <td>2</td>\n",
       "    </tr>\n",
       "  </tbody>\n",
       "</table>\n",
       "</div>"
      ],
      "text/plain": [
       "   Temperature  Humidity  Wind Speed  Precipitation (%)  Cloud Cover  \\\n",
       "0         14.0        73         9.5               82.0            3   \n",
       "1         39.0        96         8.5               71.0            3   \n",
       "2         30.0        64         7.0               16.0            0   \n",
       "3         38.0        83         1.5               82.0            0   \n",
       "4         27.0        74        17.0               66.0            2   \n",
       "\n",
       "   Atmospheric Pressure  UV Index  Season  Visibility (km)  Location  \n",
       "0               1010.82         2       3              3.5         1  \n",
       "1               1011.43         7       1             10.0         1  \n",
       "2               1018.72         5       1              5.5         2  \n",
       "3               1026.25         7       1              1.0         0  \n",
       "4                990.67         1       3              2.5         2  "
      ]
     },
     "execution_count": 9,
     "metadata": {},
     "output_type": "execute_result"
    }
   ],
   "source": [
    "le = LabelEncoder()\n",
    "categorical = ['Cloud Cover', 'Season', 'Location']\n",
    "for variable in categorical:\n",
    "    df[variable] = le.fit_transform(df[variable])\n",
    "df.head()"
   ]
  },
  {
   "cell_type": "code",
   "execution_count": 10,
   "id": "2a4ceabc-d575-4318-a976-14e3394e9467",
   "metadata": {},
   "outputs": [
    {
     "data": {
      "text/html": [
       "<div>\n",
       "<style scoped>\n",
       "    .dataframe tbody tr th:only-of-type {\n",
       "        vertical-align: middle;\n",
       "    }\n",
       "\n",
       "    .dataframe tbody tr th {\n",
       "        vertical-align: top;\n",
       "    }\n",
       "\n",
       "    .dataframe thead tr th {\n",
       "        text-align: left;\n",
       "    }\n",
       "</style>\n",
       "<table border=\"1\" class=\"dataframe\">\n",
       "  <thead>\n",
       "    <tr>\n",
       "      <th></th>\n",
       "      <th>Temperature</th>\n",
       "      <th>Humidity</th>\n",
       "      <th>Wind Speed</th>\n",
       "      <th>Precipitation (%)</th>\n",
       "      <th>Cloud Cover</th>\n",
       "      <th>Atmospheric Pressure</th>\n",
       "      <th>UV Index</th>\n",
       "      <th>Season</th>\n",
       "      <th>Visibility (km)</th>\n",
       "      <th>Location</th>\n",
       "    </tr>\n",
       "  </thead>\n",
       "  <tbody>\n",
       "    <tr>\n",
       "      <th>0</th>\n",
       "      <td>0.291045</td>\n",
       "      <td>0.595506</td>\n",
       "      <td>0.195876</td>\n",
       "      <td>0.752294</td>\n",
       "      <td>1.000000</td>\n",
       "      <td>0.527951</td>\n",
       "      <td>0.142857</td>\n",
       "      <td>1.000000</td>\n",
       "      <td>0.175</td>\n",
       "      <td>0.5</td>\n",
       "    </tr>\n",
       "    <tr>\n",
       "      <th>1</th>\n",
       "      <td>0.477612</td>\n",
       "      <td>0.853933</td>\n",
       "      <td>0.175258</td>\n",
       "      <td>0.651376</td>\n",
       "      <td>1.000000</td>\n",
       "      <td>0.529480</td>\n",
       "      <td>0.500000</td>\n",
       "      <td>0.333333</td>\n",
       "      <td>0.500</td>\n",
       "      <td>0.5</td>\n",
       "    </tr>\n",
       "    <tr>\n",
       "      <th>2</th>\n",
       "      <td>0.410448</td>\n",
       "      <td>0.494382</td>\n",
       "      <td>0.144330</td>\n",
       "      <td>0.146789</td>\n",
       "      <td>0.000000</td>\n",
       "      <td>0.547746</td>\n",
       "      <td>0.357143</td>\n",
       "      <td>0.333333</td>\n",
       "      <td>0.275</td>\n",
       "      <td>1.0</td>\n",
       "    </tr>\n",
       "    <tr>\n",
       "      <th>3</th>\n",
       "      <td>0.470149</td>\n",
       "      <td>0.707865</td>\n",
       "      <td>0.030928</td>\n",
       "      <td>0.752294</td>\n",
       "      <td>0.000000</td>\n",
       "      <td>0.566614</td>\n",
       "      <td>0.500000</td>\n",
       "      <td>0.333333</td>\n",
       "      <td>0.050</td>\n",
       "      <td>0.0</td>\n",
       "    </tr>\n",
       "    <tr>\n",
       "      <th>4</th>\n",
       "      <td>0.388060</td>\n",
       "      <td>0.606742</td>\n",
       "      <td>0.350515</td>\n",
       "      <td>0.605505</td>\n",
       "      <td>0.666667</td>\n",
       "      <td>0.477461</td>\n",
       "      <td>0.071429</td>\n",
       "      <td>1.000000</td>\n",
       "      <td>0.125</td>\n",
       "      <td>1.0</td>\n",
       "    </tr>\n",
       "  </tbody>\n",
       "</table>\n",
       "</div>"
      ],
      "text/plain": [
       "  Temperature  Humidity Wind Speed Precipitation (%) Cloud Cover  \\\n",
       "0    0.291045  0.595506   0.195876          0.752294    1.000000   \n",
       "1    0.477612  0.853933   0.175258          0.651376    1.000000   \n",
       "2    0.410448  0.494382   0.144330          0.146789    0.000000   \n",
       "3    0.470149  0.707865   0.030928          0.752294    0.000000   \n",
       "4    0.388060  0.606742   0.350515          0.605505    0.666667   \n",
       "\n",
       "  Atmospheric Pressure  UV Index    Season Visibility (km) Location  \n",
       "0             0.527951  0.142857  1.000000           0.175      0.5  \n",
       "1             0.529480  0.500000  0.333333           0.500      0.5  \n",
       "2             0.547746  0.357143  0.333333           0.275      1.0  \n",
       "3             0.566614  0.500000  0.333333           0.050      0.0  \n",
       "4             0.477461  0.071429  1.000000           0.125      1.0  "
      ]
     },
     "execution_count": 10,
     "metadata": {},
     "output_type": "execute_result"
    }
   ],
   "source": [
    "cols = df.columns\n",
    "ms = MinMaxScaler()\n",
    "df = ms.fit_transform(df)\n",
    "df = pd.DataFrame(df, columns=[cols])\n",
    "df.head()"
   ]
  },
  {
   "cell_type": "code",
   "execution_count": 6,
   "id": "b30ca4a0-990e-469f-8153-0e542e45943b",
   "metadata": {},
   "outputs": [
    {
     "name": "stdout",
     "output_type": "stream",
     "text": [
      "k=2 done\n",
      "k=3 done\n",
      "k=4 done\n",
      "k=5 done\n",
      "k=6 done\n",
      "k=7 done\n",
      "k=8 done\n",
      "k=9 done\n",
      "k=10 done\n",
      "k=11 done\n",
      "k=12 done\n",
      "k=13 done\n",
      "k=14 done\n",
      "k=15 done\n",
      "k=16 done\n",
      "k=17 done\n",
      "k=18 done\n",
      "k=19 done\n",
      "k=20 done\n",
      "k=21 done\n",
      "k=22 done\n",
      "k=23 done\n",
      "k=24 done\n",
      "k=25 done\n",
      "k=26 done\n",
      "k=27 done\n",
      "k=28 done\n",
      "k=29 done\n",
      "k=30 done\n"
     ]
    }
   ],
   "source": [
    "#silhouette method\n",
    "silhouette_coefficient = []\n",
    "for i in range(2,31):\n",
    "    kmeans = KMeans(n_clusters=i, init='random', max_iter = 300, n_init = 10, random_state=0)\n",
    "    kmeans.fit(df)\n",
    "    silhouette_coefficient.append(silhouette_score(df, kmeans.labels_))\n",
    "    print(\"k=%d done\" % i)"
   ]
  },
  {
   "cell_type": "code",
   "execution_count": 7,
   "id": "8d604382-4d2a-4ee3-a414-fc770abf3da6",
   "metadata": {},
   "outputs": [
    {
     "data": {
      "image/png": "[encoded data removed]",
      "text/plain": [
       "<Figure size 640x480 with 1 Axes>"
      ]
     },
     "metadata": {},
     "output_type": "display_data"
    }
   ],
   "source": [
    "plt.plot(range(2,31), silhouette_coefficient, 'bx-')\n",
    "plt.xlabel('Number of clusters')\n",
    "plt.ylabel('Silhouette Coefficient')\n",
    "plt.show()"
   ]
  },
  {
   "cell_type": "code",
   "execution_count": 11,
   "id": "5eefb649-a064-490a-aa03-23a2a4ee6fae",
   "metadata": {},
   "outputs": [
    {
     "data": {
      "text/plain": [
       "0.2545778751373291"
      ]
     },
     "execution_count": 11,
     "metadata": {},
     "output_type": "execute_result"
    }
   ],
   "source": [
    "#determine time taken for k means\n",
    "kmeans = KMeans(n_clusters=4, init='random', max_iter = 300, n_init = 10, random_state=0) #4 is best from silhouette coefficient\n",
    "start_time = time.time()\n",
    "kmeans.fit(df)\n",
    "end_time = time.time()\n",
    "end_time-start_time"
   ]
  },
  {
   "cell_type": "code",
   "execution_count": 12,
   "id": "23a746e9-6a82-4dfc-8009-faec5e8b826c",
   "metadata": {},
   "outputs": [
    {
     "data": {
      "text/plain": [
       "5105.994864010534"
      ]
     },
     "execution_count": 12,
     "metadata": {},
     "output_type": "execute_result"
    }
   ],
   "source": [
    "#sum of squared L2 distance\n",
    "kmeans.inertia_"
   ]
  },
  {
   "cell_type": "code",
   "execution_count": 90,
   "id": "3b2851e6-1cb7-4d13-b9bf-dad2e2dba536",
   "metadata": {},
   "outputs": [
    {
     "data": {
      "text/plain": [
       "0.2511174356328603"
      ]
     },
     "execution_count": 90,
     "metadata": {},
     "output_type": "execute_result"
    }
   ],
   "source": [
    "#silhouette coefficient\n",
    "silhouette_score(df, kmeans.labels_)"
   ]
  }
 ],
 "metadata": {
  "kernelspec": {
   "display_name": "Python 3 (ipykernel)",
   "language": "python",
   "name": "python3"
  },
  "language_info": {
   "codemirror_mode": {
    "name": "ipython",
    "version": 3
   },
   "file_extension": ".py",
   "mimetype": "text/x-python",
   "name": "python",
   "nbconvert_exporter": "python",
   "pygments_lexer": "ipython3",
   "version": "3.11.10"
  }
 },
 "nbformat": 4,
 "nbformat_minor": 5
}
