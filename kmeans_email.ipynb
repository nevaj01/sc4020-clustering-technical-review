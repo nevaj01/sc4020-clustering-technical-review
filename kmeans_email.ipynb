{
 "cells": [
  {
   "cell_type": "code",
   "execution_count": 1,
   "id": "94c32a8c-1e1e-402a-ac4e-1eea5512971a",
   "metadata": {},
   "outputs": [],
   "source": [
    "import pandas as pd\n",
    "import numpy as np\n",
    "import matplotlib.pyplot as plt\n",
    "from sklearn.preprocessing import LabelEncoder, MinMaxScaler\n",
    "from cuml import KMeans\n",
    "from cuml.metrics.cluster import silhouette_score\n",
    "import time\n",
    "%matplotlib inline"
   ]
  },
  {
   "cell_type": "code",
   "execution_count": 2,
   "id": "4cc31198-acbc-4a36-a863-81757c032351",
   "metadata": {},
   "outputs": [
    {
     "name": "stderr",
     "output_type": "stream",
     "text": [
      "/tmp/ipykernel_249328/1780134095.py:1: DtypeWarning: Columns (7,13) have mixed types. Specify dtype option on import or set low_memory=False.\n",
      "  df = pd.read_csv(\"enron_data_fraud_labeled.csv\")\n"
     ]
    },
    {
     "data": {
      "text/html": [
       "<div>\n",
       "<style scoped>\n",
       "    .dataframe tbody tr th:only-of-type {\n",
       "        vertical-align: middle;\n",
       "    }\n",
       "\n",
       "    .dataframe tbody tr th {\n",
       "        vertical-align: top;\n",
       "    }\n",
       "\n",
       "    .dataframe thead th {\n",
       "        text-align: right;\n",
       "    }\n",
       "</style>\n",
       "<table border=\"1\" class=\"dataframe\">\n",
       "  <thead>\n",
       "    <tr style=\"text-align: right;\">\n",
       "      <th></th>\n",
       "      <th>Folder-User</th>\n",
       "      <th>Folder-Name</th>\n",
       "      <th>Message-ID</th>\n",
       "      <th>Date</th>\n",
       "      <th>From</th>\n",
       "      <th>To</th>\n",
       "      <th>Subject</th>\n",
       "      <th>Mime-Version</th>\n",
       "      <th>Content-Type</th>\n",
       "      <th>Content-Transfer-Encoding</th>\n",
       "      <th>...</th>\n",
       "      <th>Attendees</th>\n",
       "      <th>Re</th>\n",
       "      <th>Source</th>\n",
       "      <th>Mail-ID</th>\n",
       "      <th>POI-Present</th>\n",
       "      <th>Suspicious-Folders</th>\n",
       "      <th>Sender-Type</th>\n",
       "      <th>Unique-Mails-From-Sender</th>\n",
       "      <th>Low-Comm</th>\n",
       "      <th>Contains-Reply-Forwards</th>\n",
       "    </tr>\n",
       "  </thead>\n",
       "  <tbody>\n",
       "    <tr>\n",
       "      <th>0</th>\n",
       "      <td>maildir</td>\n",
       "      <td>arnold-j</td>\n",
       "      <td>&lt;17334447.1075857585446.JavaMail.evans@thyme&gt;</td>\n",
       "      <td>Thu, 16 Nov 2000 09:30:00 -0800 (PST)</td>\n",
       "      <td>msagel@home.com</td>\n",
       "      <td>jarnold@enron.com</td>\n",
       "      <td>Status</td>\n",
       "      <td>1.0</td>\n",
       "      <td>text/plain; charset=ANSI_X3.4-1968</td>\n",
       "      <td>7bit</td>\n",
       "      <td>...</td>\n",
       "      <td></td>\n",
       "      <td></td>\n",
       "      <td>Enron Data</td>\n",
       "      <td>b399fa1ba5ec06ccf8ead1049a53be981d0ebb39ee2c94...</td>\n",
       "      <td>False</td>\n",
       "      <td>False</td>\n",
       "      <td>External</td>\n",
       "      <td>18.0</td>\n",
       "      <td>False</td>\n",
       "      <td>False</td>\n",
       "    </tr>\n",
       "    <tr>\n",
       "      <th>1</th>\n",
       "      <td>maildir</td>\n",
       "      <td>arnold-j</td>\n",
       "      <td>&lt;19171686.1075857585034.JavaMail.evans@thyme&gt;</td>\n",
       "      <td>Fri, 8 Dec 2000 05:05:00 -0800 (PST)</td>\n",
       "      <td>slafontaine@globalp.com</td>\n",
       "      <td>john.arnold@enron.com</td>\n",
       "      <td>re:summer inverses</td>\n",
       "      <td>1.0</td>\n",
       "      <td>text/plain; charset=us-ascii</td>\n",
       "      <td>7bit</td>\n",
       "      <td>...</td>\n",
       "      <td></td>\n",
       "      <td></td>\n",
       "      <td>Enron Data</td>\n",
       "      <td>84b07d7a0a17b545896f670f92d200e86843c2796147d9...</td>\n",
       "      <td>False</td>\n",
       "      <td>False</td>\n",
       "      <td>External</td>\n",
       "      <td>4.0</td>\n",
       "      <td>True</td>\n",
       "      <td>False</td>\n",
       "    </tr>\n",
       "    <tr>\n",
       "      <th>2</th>\n",
       "      <td>maildir</td>\n",
       "      <td>arnold-j</td>\n",
       "      <td>&lt;29887033.1075857630725.JavaMail.evans@thyme&gt;</td>\n",
       "      <td>Tue, 15 May 2001 09:43:00 -0700 (PDT)</td>\n",
       "      <td>iceoperations@intcx.com</td>\n",
       "      <td>icehelpdesk@intcx.com, internalmarketing@intcx...</td>\n",
       "      <td>The WTI Bullet swap contracts</td>\n",
       "      <td>1.0</td>\n",
       "      <td>text/plain; charset=us-ascii</td>\n",
       "      <td>7bit</td>\n",
       "      <td>...</td>\n",
       "      <td></td>\n",
       "      <td></td>\n",
       "      <td>Enron Data</td>\n",
       "      <td>f7482dd06262f46d341e733aa0c2fb55cb1e257ea153d0...</td>\n",
       "      <td>False</td>\n",
       "      <td>False</td>\n",
       "      <td>External</td>\n",
       "      <td>3.0</td>\n",
       "      <td>True</td>\n",
       "      <td>False</td>\n",
       "    </tr>\n",
       "    <tr>\n",
       "      <th>3</th>\n",
       "      <td>maildir</td>\n",
       "      <td>arnold-j</td>\n",
       "      <td>&lt;2526360.1075857584903.JavaMail.evans@thyme&gt;</td>\n",
       "      <td>Mon, 11 Dec 2000 23:52:00 -0800 (PST)</td>\n",
       "      <td>klarnold@flash.net</td>\n",
       "      <td>john.arnold@enron.com</td>\n",
       "      <td>Fwd: NYTimes.com Article: Suspended Rabbi Quit...</td>\n",
       "      <td>1.0</td>\n",
       "      <td>text/plain; charset=us-ascii</td>\n",
       "      <td>7bit</td>\n",
       "      <td>...</td>\n",
       "      <td></td>\n",
       "      <td></td>\n",
       "      <td>Enron Data</td>\n",
       "      <td>25441e5a837fefda50527731fdbcdf0848663be82cd1ce...</td>\n",
       "      <td>False</td>\n",
       "      <td>False</td>\n",
       "      <td>External</td>\n",
       "      <td>9.0</td>\n",
       "      <td>False</td>\n",
       "      <td>True</td>\n",
       "    </tr>\n",
       "    <tr>\n",
       "      <th>4</th>\n",
       "      <td>maildir</td>\n",
       "      <td>arnold-j</td>\n",
       "      <td>&lt;30102065.1075857630952.JavaMail.evans@thyme&gt;</td>\n",
       "      <td>Mon, 14 May 2001 23:59:00 -0700 (PDT)</td>\n",
       "      <td>soblander@carrfut.com</td>\n",
       "      <td>soblander@carrfut.com</td>\n",
       "      <td>daily charts and matrices as hot links 5/15</td>\n",
       "      <td>1.0</td>\n",
       "      <td>text/plain; charset=us-ascii</td>\n",
       "      <td>7bit</td>\n",
       "      <td>...</td>\n",
       "      <td></td>\n",
       "      <td></td>\n",
       "      <td>Enron Data</td>\n",
       "      <td>c2995c6a70b953ee66c21d8a509ebfbfaca28277917beb...</td>\n",
       "      <td>False</td>\n",
       "      <td>False</td>\n",
       "      <td>External</td>\n",
       "      <td>352.0</td>\n",
       "      <td>False</td>\n",
       "      <td>False</td>\n",
       "    </tr>\n",
       "  </tbody>\n",
       "</table>\n",
       "<p>5 rows × 31 columns</p>\n",
       "</div>"
      ],
      "text/plain": [
       "  Folder-User Folder-Name                                     Message-ID  \\\n",
       "0     maildir    arnold-j  <17334447.1075857585446.JavaMail.evans@thyme>   \n",
       "1     maildir    arnold-j  <19171686.1075857585034.JavaMail.evans@thyme>   \n",
       "2     maildir    arnold-j  <29887033.1075857630725.JavaMail.evans@thyme>   \n",
       "3     maildir    arnold-j   <2526360.1075857584903.JavaMail.evans@thyme>   \n",
       "4     maildir    arnold-j  <30102065.1075857630952.JavaMail.evans@thyme>   \n",
       "\n",
       "                                    Date                     From  \\\n",
       "0  Thu, 16 Nov 2000 09:30:00 -0800 (PST)          msagel@home.com   \n",
       "1   Fri, 8 Dec 2000 05:05:00 -0800 (PST)  slafontaine@globalp.com   \n",
       "2  Tue, 15 May 2001 09:43:00 -0700 (PDT)  iceoperations@intcx.com   \n",
       "3  Mon, 11 Dec 2000 23:52:00 -0800 (PST)       klarnold@flash.net   \n",
       "4  Mon, 14 May 2001 23:59:00 -0700 (PDT)    soblander@carrfut.com   \n",
       "\n",
       "                                                  To  \\\n",
       "0                                  jarnold@enron.com   \n",
       "1                              john.arnold@enron.com   \n",
       "2  icehelpdesk@intcx.com, internalmarketing@intcx...   \n",
       "3                              john.arnold@enron.com   \n",
       "4                              soblander@carrfut.com   \n",
       "\n",
       "                                             Subject Mime-Version  \\\n",
       "0                                             Status          1.0   \n",
       "1                                 re:summer inverses          1.0   \n",
       "2                      The WTI Bullet swap contracts          1.0   \n",
       "3  Fwd: NYTimes.com Article: Suspended Rabbi Quit...          1.0   \n",
       "4        daily charts and matrices as hot links 5/15          1.0   \n",
       "\n",
       "                         Content-Type Content-Transfer-Encoding  ...  \\\n",
       "0  text/plain; charset=ANSI_X3.4-1968                      7bit  ...   \n",
       "1        text/plain; charset=us-ascii                      7bit  ...   \n",
       "2        text/plain; charset=us-ascii                      7bit  ...   \n",
       "3        text/plain; charset=us-ascii                      7bit  ...   \n",
       "4        text/plain; charset=us-ascii                      7bit  ...   \n",
       "\n",
       "  Attendees Re      Source                                            Mail-ID  \\\n",
       "0               Enron Data  b399fa1ba5ec06ccf8ead1049a53be981d0ebb39ee2c94...   \n",
       "1               Enron Data  84b07d7a0a17b545896f670f92d200e86843c2796147d9...   \n",
       "2               Enron Data  f7482dd06262f46d341e733aa0c2fb55cb1e257ea153d0...   \n",
       "3               Enron Data  25441e5a837fefda50527731fdbcdf0848663be82cd1ce...   \n",
       "4               Enron Data  c2995c6a70b953ee66c21d8a509ebfbfaca28277917beb...   \n",
       "\n",
       "  POI-Present Suspicious-Folders Sender-Type Unique-Mails-From-Sender  \\\n",
       "0       False              False    External                     18.0   \n",
       "1       False              False    External                      4.0   \n",
       "2       False              False    External                      3.0   \n",
       "3       False              False    External                      9.0   \n",
       "4       False              False    External                    352.0   \n",
       "\n",
       "  Low-Comm Contains-Reply-Forwards  \n",
       "0    False                   False  \n",
       "1     True                   False  \n",
       "2     True                   False  \n",
       "3    False                    True  \n",
       "4    False                   False  \n",
       "\n",
       "[5 rows x 31 columns]"
      ]
     },
     "execution_count": 2,
     "metadata": {},
     "output_type": "execute_result"
    }
   ],
   "source": [
    "df = pd.read_csv(\"enron_data_fraud_labeled.csv\")\n",
    "#drop class label\n",
    "df=df.drop(['Label'],axis=1)\n",
    "df.head()"
   ]
  },
  {
   "cell_type": "code",
   "execution_count": 3,
   "id": "7f780d69-b17a-404c-a6af-b114c14608bf",
   "metadata": {},
   "outputs": [
    {
     "name": "stdout",
     "output_type": "stream",
     "text": [
      "<class 'pandas.core.frame.DataFrame'>\n",
      "RangeIndex: 447417 entries, 0 to 447416\n",
      "Data columns (total 31 columns):\n",
      " #   Column                     Non-Null Count   Dtype  \n",
      "---  ------                     --------------   -----  \n",
      " 0   Folder-User                447417 non-null  object \n",
      " 1   Folder-Name                447417 non-null  object \n",
      " 2   Message-ID                 447417 non-null  object \n",
      " 3   Date                       447417 non-null  object \n",
      " 4   From                       447417 non-null  object \n",
      " 5   To                         447417 non-null  object \n",
      " 6   Subject                    429397 non-null  object \n",
      " 7   Mime-Version               447417 non-null  object \n",
      " 8   Content-Type               447417 non-null  object \n",
      " 9   Content-Transfer-Encoding  447417 non-null  object \n",
      " 10  X-From                     447417 non-null  object \n",
      " 11  X-To                       439238 non-null  object \n",
      " 12  X-cc                       109637 non-null  object \n",
      " 13  X-bcc                      177 non-null     object \n",
      " 14  X-Folder                   447417 non-null  object \n",
      " 15  X-Origin                   447417 non-null  object \n",
      " 16  X-FileName                 444727 non-null  object \n",
      " 17  Body                       447417 non-null  object \n",
      " 18  Cc                         447417 non-null  object \n",
      " 19  Bcc                        447417 non-null  object \n",
      " 20  Time                       447417 non-null  object \n",
      " 21  Attendees                  447417 non-null  object \n",
      " 22  Re                         447417 non-null  object \n",
      " 23  Source                     447417 non-null  object \n",
      " 24  Mail-ID                    447417 non-null  object \n",
      " 25  POI-Present                447417 non-null  bool   \n",
      " 26  Suspicious-Folders         447417 non-null  bool   \n",
      " 27  Sender-Type                447417 non-null  object \n",
      " 28  Unique-Mails-From-Sender   447417 non-null  float64\n",
      " 29  Low-Comm                   447417 non-null  bool   \n",
      " 30  Contains-Reply-Forwards    447417 non-null  bool   \n",
      "dtypes: bool(4), float64(1), object(26)\n",
      "memory usage: 93.9+ MB\n"
     ]
    }
   ],
   "source": [
    "df.info()"
   ]
  },
  {
   "cell_type": "code",
   "execution_count": 4,
   "id": "9f461ec9-4049-484f-a6e8-1b15e369ae79",
   "metadata": {},
   "outputs": [
    {
     "data": {
      "text/plain": [
       "1"
      ]
     },
     "execution_count": 4,
     "metadata": {},
     "output_type": "execute_result"
    }
   ],
   "source": [
    "len(df['Folder-User'].unique())"
   ]
  },
  {
   "cell_type": "code",
   "execution_count": 5,
   "id": "ab8d6425-e326-4037-a3cb-8d5b97b336e6",
   "metadata": {},
   "outputs": [
    {
     "data": {
      "text/plain": [
       "150"
      ]
     },
     "execution_count": 5,
     "metadata": {},
     "output_type": "execute_result"
    }
   ],
   "source": [
    "len(df['Folder-Name'].unique())"
   ]
  },
  {
   "cell_type": "code",
   "execution_count": 6,
   "id": "47dc6bbc-326e-45bd-802a-bedb38df2d43",
   "metadata": {},
   "outputs": [
    {
     "data": {
      "text/plain": [
       "447417"
      ]
     },
     "execution_count": 6,
     "metadata": {},
     "output_type": "execute_result"
    }
   ],
   "source": [
    "len(df['Message-ID'].unique())"
   ]
  },
  {
   "cell_type": "code",
   "execution_count": 7,
   "id": "226dc657-d123-453d-9cf4-373c70dcb88d",
   "metadata": {},
   "outputs": [
    {
     "data": {
      "text/plain": [
       "221093"
      ]
     },
     "execution_count": 7,
     "metadata": {},
     "output_type": "execute_result"
    }
   ],
   "source": [
    "len(df['Date'].unique())"
   ]
  },
  {
   "cell_type": "code",
   "execution_count": 8,
   "id": "74d62a9b-23e2-452c-9e2a-fe2fb64d78d0",
   "metadata": {},
   "outputs": [
    {
     "data": {
      "text/plain": [
       "20239"
      ]
     },
     "execution_count": 8,
     "metadata": {},
     "output_type": "execute_result"
    }
   ],
   "source": [
    "len(df['From'].unique())"
   ]
  },
  {
   "cell_type": "code",
   "execution_count": 9,
   "id": "12775981-f336-4c4d-9268-18172ca88ff7",
   "metadata": {},
   "outputs": [
    {
     "data": {
      "text/plain": [
       "58293"
      ]
     },
     "execution_count": 9,
     "metadata": {},
     "output_type": "execute_result"
    }
   ],
   "source": [
    "len(df['To'].unique())"
   ]
  },
  {
   "cell_type": "code",
   "execution_count": 10,
   "id": "09d374ae-ef72-4540-b134-c1c25866897f",
   "metadata": {},
   "outputs": [
    {
     "data": {
      "text/plain": [
       "158825"
      ]
     },
     "execution_count": 10,
     "metadata": {},
     "output_type": "execute_result"
    }
   ],
   "source": [
    "len(df['Subject'].unique())"
   ]
  },
  {
   "cell_type": "code",
   "execution_count": 11,
   "id": "d5f78466-0bb6-4388-b217-420476e08264",
   "metadata": {},
   "outputs": [
    {
     "data": {
      "text/plain": [
       "3"
      ]
     },
     "execution_count": 11,
     "metadata": {},
     "output_type": "execute_result"
    }
   ],
   "source": [
    "len(df['Mime-Version'].unique())"
   ]
  },
  {
   "cell_type": "code",
   "execution_count": 12,
   "id": "ba45d6fa-eb39-476a-85f3-44c8a3ef26e3",
   "metadata": {},
   "outputs": [
    {
     "data": {
      "text/plain": [
       "3"
      ]
     },
     "execution_count": 12,
     "metadata": {},
     "output_type": "execute_result"
    }
   ],
   "source": [
    "len(df['Content-Type'].unique())"
   ]
  },
  {
   "cell_type": "code",
   "execution_count": 13,
   "id": "1acdb1e7-bebf-445c-943b-84f0046f0658",
   "metadata": {},
   "outputs": [
    {
     "data": {
      "text/plain": [
       "4"
      ]
     },
     "execution_count": 13,
     "metadata": {},
     "output_type": "execute_result"
    }
   ],
   "source": [
    "len(df['Content-Transfer-Encoding'].unique())"
   ]
  },
  {
   "cell_type": "code",
   "execution_count": 14,
   "id": "fd2f88bb-9af8-4300-b6e0-970caa24f883",
   "metadata": {},
   "outputs": [
    {
     "data": {
      "text/plain": [
       "27738"
      ]
     },
     "execution_count": 14,
     "metadata": {},
     "output_type": "execute_result"
    }
   ],
   "source": [
    "len(df['X-From'].unique())"
   ]
  },
  {
   "cell_type": "code",
   "execution_count": 15,
   "id": "1798d8dd-1e11-4739-88fb-86f0ba9fbbdd",
   "metadata": {},
   "outputs": [
    {
     "data": {
      "text/plain": [
       "72877"
      ]
     },
     "execution_count": 15,
     "metadata": {},
     "output_type": "execute_result"
    }
   ],
   "source": [
    "len(df['X-To'].unique())"
   ]
  },
  {
   "cell_type": "code",
   "execution_count": 16,
   "id": "0f3d76b9-adb2-4d99-83ac-5f2982e45542",
   "metadata": {},
   "outputs": [
    {
     "data": {
      "text/plain": [
       "33494"
      ]
     },
     "execution_count": 16,
     "metadata": {},
     "output_type": "execute_result"
    }
   ],
   "source": [
    "len(df['X-cc'].unique())"
   ]
  },
  {
   "cell_type": "code",
   "execution_count": 17,
   "id": "97f525db-5baa-41ea-a1f0-40ac2ef49fe9",
   "metadata": {},
   "outputs": [
    {
     "data": {
      "text/plain": [
       "118"
      ]
     },
     "execution_count": 17,
     "metadata": {},
     "output_type": "execute_result"
    }
   ],
   "source": [
    "len(df['X-bcc'].unique())"
   ]
  },
  {
   "cell_type": "code",
   "execution_count": 18,
   "id": "ac5797c7-5a9c-4799-8f6b-dd8e62a49091",
   "metadata": {},
   "outputs": [
    {
     "data": {
      "text/plain": [
       "5173"
      ]
     },
     "execution_count": 18,
     "metadata": {},
     "output_type": "execute_result"
    }
   ],
   "source": [
    "len(df['X-Folder'].unique())"
   ]
  },
  {
   "cell_type": "code",
   "execution_count": 19,
   "id": "ab288680-811e-4852-90a1-27995d56ee25",
   "metadata": {},
   "outputs": [
    {
     "data": {
      "text/plain": [
       "260"
      ]
     },
     "execution_count": 19,
     "metadata": {},
     "output_type": "execute_result"
    }
   ],
   "source": [
    "len(df['X-Origin'].unique())"
   ]
  },
  {
   "cell_type": "code",
   "execution_count": 20,
   "id": "37cfdaa0-b1a3-4501-a88f-ada1be43446d",
   "metadata": {},
   "outputs": [
    {
     "data": {
      "text/plain": [
       "428"
      ]
     },
     "execution_count": 20,
     "metadata": {},
     "output_type": "execute_result"
    }
   ],
   "source": [
    "len(df['X-FileName'].unique())"
   ]
  },
  {
   "cell_type": "code",
   "execution_count": 21,
   "id": "0c1519ca-6b7b-42a9-b598-da148adb808f",
   "metadata": {},
   "outputs": [
    {
     "data": {
      "text/plain": [
       "242220"
      ]
     },
     "execution_count": 21,
     "metadata": {},
     "output_type": "execute_result"
    }
   ],
   "source": [
    "len(df['Body'].unique())"
   ]
  },
  {
   "cell_type": "code",
   "execution_count": 22,
   "id": "630d6ea9-4fff-4820-8086-36d3961589be",
   "metadata": {},
   "outputs": [
    {
     "data": {
      "text/plain": [
       "29529"
      ]
     },
     "execution_count": 22,
     "metadata": {},
     "output_type": "execute_result"
    }
   ],
   "source": [
    "len(df['Cc'].unique())"
   ]
  },
  {
   "cell_type": "code",
   "execution_count": 23,
   "id": "4db26083-dcb3-4ba9-97fe-9235574d416b",
   "metadata": {},
   "outputs": [
    {
     "data": {
      "text/plain": [
       "29529"
      ]
     },
     "execution_count": 23,
     "metadata": {},
     "output_type": "execute_result"
    }
   ],
   "source": [
    "len(df['Bcc'].unique())"
   ]
  },
  {
   "cell_type": "code",
   "execution_count": 24,
   "id": "f1e62c21-1342-4b10-99de-87fb168dc9d7",
   "metadata": {},
   "outputs": [
    {
     "data": {
      "text/plain": [
       "2"
      ]
     },
     "execution_count": 24,
     "metadata": {},
     "output_type": "execute_result"
    }
   ],
   "source": [
    "len(df['Time'].unique())"
   ]
  },
  {
   "cell_type": "code",
   "execution_count": 25,
   "id": "6d5043c9-218c-4205-9b4f-475de5427648",
   "metadata": {},
   "outputs": [
    {
     "data": {
      "text/plain": [
       "2"
      ]
     },
     "execution_count": 25,
     "metadata": {},
     "output_type": "execute_result"
    }
   ],
   "source": [
    "len(df['Attendees'].unique())"
   ]
  },
  {
   "cell_type": "code",
   "execution_count": 26,
   "id": "b8699de8-7e3c-4116-ba64-22b03fbe4912",
   "metadata": {},
   "outputs": [
    {
     "data": {
      "text/plain": [
       "1"
      ]
     },
     "execution_count": 26,
     "metadata": {},
     "output_type": "execute_result"
    }
   ],
   "source": [
    "len(df['Re'].unique())"
   ]
  },
  {
   "cell_type": "code",
   "execution_count": 27,
   "id": "a268c7f3-6c20-4b93-8f8d-a92323a57228",
   "metadata": {},
   "outputs": [
    {
     "data": {
      "text/plain": [
       "1"
      ]
     },
     "execution_count": 27,
     "metadata": {},
     "output_type": "execute_result"
    }
   ],
   "source": [
    "len(df['Source'].unique())"
   ]
  },
  {
   "cell_type": "code",
   "execution_count": 28,
   "id": "c8417035-1765-45bd-ad34-19192a31fff8",
   "metadata": {},
   "outputs": [
    {
     "data": {
      "text/plain": [
       "248949"
      ]
     },
     "execution_count": 28,
     "metadata": {},
     "output_type": "execute_result"
    }
   ],
   "source": [
    "len(df['Mail-ID'].unique())"
   ]
  },
  {
   "cell_type": "code",
   "execution_count": 29,
   "id": "c9b64898-62d9-444a-ad0f-1929f0b6cd7d",
   "metadata": {},
   "outputs": [
    {
     "data": {
      "text/plain": [
       "2"
      ]
     },
     "execution_count": 29,
     "metadata": {},
     "output_type": "execute_result"
    }
   ],
   "source": [
    "len(df['POI-Present'].unique())"
   ]
  },
  {
   "cell_type": "code",
   "execution_count": 30,
   "id": "aa04db6b-8f87-4dcd-9c3e-fa1ede0d3cce",
   "metadata": {},
   "outputs": [
    {
     "data": {
      "text/plain": [
       "1"
      ]
     },
     "execution_count": 30,
     "metadata": {},
     "output_type": "execute_result"
    }
   ],
   "source": [
    "len(df['Suspicious-Folders'].unique())"
   ]
  },
  {
   "cell_type": "code",
   "execution_count": 31,
   "id": "3d7bd91e-88b6-487c-823a-16a8365aef52",
   "metadata": {},
   "outputs": [
    {
     "data": {
      "text/plain": [
       "2"
      ]
     },
     "execution_count": 31,
     "metadata": {},
     "output_type": "execute_result"
    }
   ],
   "source": [
    "len(df['Sender-Type'].unique())"
   ]
  },
  {
   "cell_type": "code",
   "execution_count": 32,
   "id": "ec72be0f-d602-4aa4-9a79-83eb3c03838e",
   "metadata": {},
   "outputs": [
    {
     "data": {
      "text/plain": [
       "2"
      ]
     },
     "execution_count": 32,
     "metadata": {},
     "output_type": "execute_result"
    }
   ],
   "source": [
    "len(df['Low-Comm'].unique())"
   ]
  },
  {
   "cell_type": "code",
   "execution_count": 33,
   "id": "4c731485-8236-4047-a09e-02b49ec42c12",
   "metadata": {},
   "outputs": [
    {
     "data": {
      "text/plain": [
       "2"
      ]
     },
     "execution_count": 33,
     "metadata": {},
     "output_type": "execute_result"
    }
   ],
   "source": [
    "len(df['Contains-Reply-Forwards'].unique())"
   ]
  },
  {
   "cell_type": "code",
   "execution_count": 34,
   "id": "43c56cc3-691a-4d27-895e-4fe9e74323f8",
   "metadata": {},
   "outputs": [
    {
     "data": {
      "text/html": [
       "<div>\n",
       "<style scoped>\n",
       "    .dataframe tbody tr th:only-of-type {\n",
       "        vertical-align: middle;\n",
       "    }\n",
       "\n",
       "    .dataframe tbody tr th {\n",
       "        vertical-align: top;\n",
       "    }\n",
       "\n",
       "    .dataframe thead th {\n",
       "        text-align: right;\n",
       "    }\n",
       "</style>\n",
       "<table border=\"1\" class=\"dataframe\">\n",
       "  <thead>\n",
       "    <tr style=\"text-align: right;\">\n",
       "      <th></th>\n",
       "      <th>Folder-Name</th>\n",
       "      <th>Content-Type</th>\n",
       "      <th>Content-Transfer-Encoding</th>\n",
       "      <th>X-To</th>\n",
       "      <th>X-bcc</th>\n",
       "      <th>X-Origin</th>\n",
       "      <th>X-FileName</th>\n",
       "      <th>Time</th>\n",
       "      <th>Attendees</th>\n",
       "      <th>POI-Present</th>\n",
       "      <th>Sender-Type</th>\n",
       "      <th>Unique-Mails-From-Sender</th>\n",
       "      <th>Low-Comm</th>\n",
       "      <th>Contains-Reply-Forwards</th>\n",
       "    </tr>\n",
       "  </thead>\n",
       "  <tbody>\n",
       "    <tr>\n",
       "      <th>0</th>\n",
       "      <td>arnold-j</td>\n",
       "      <td>text/plain; charset=ANSI_X3.4-1968</td>\n",
       "      <td>7bit</td>\n",
       "      <td>\"John Arnold\" &lt;jarnold@enron.com&gt;</td>\n",
       "      <td>NaN</td>\n",
       "      <td>Arnold-J</td>\n",
       "      <td>Jarnold.nsf</td>\n",
       "      <td></td>\n",
       "      <td></td>\n",
       "      <td>False</td>\n",
       "      <td>External</td>\n",
       "      <td>18.0</td>\n",
       "      <td>False</td>\n",
       "      <td>False</td>\n",
       "    </tr>\n",
       "    <tr>\n",
       "      <th>1</th>\n",
       "      <td>arnold-j</td>\n",
       "      <td>text/plain; charset=us-ascii</td>\n",
       "      <td>7bit</td>\n",
       "      <td>John.Arnold@enron.com</td>\n",
       "      <td>NaN</td>\n",
       "      <td>Arnold-J</td>\n",
       "      <td>Jarnold.nsf</td>\n",
       "      <td></td>\n",
       "      <td></td>\n",
       "      <td>False</td>\n",
       "      <td>External</td>\n",
       "      <td>4.0</td>\n",
       "      <td>True</td>\n",
       "      <td>False</td>\n",
       "    </tr>\n",
       "    <tr>\n",
       "      <th>2</th>\n",
       "      <td>arnold-j</td>\n",
       "      <td>text/plain; charset=us-ascii</td>\n",
       "      <td>7bit</td>\n",
       "      <td>**ICEHELPDESK &lt;**ICEHELPDESK@intcx.com&gt;, **Int...</td>\n",
       "      <td>NaN</td>\n",
       "      <td>Arnold-J</td>\n",
       "      <td>Jarnold.nsf</td>\n",
       "      <td></td>\n",
       "      <td></td>\n",
       "      <td>False</td>\n",
       "      <td>External</td>\n",
       "      <td>3.0</td>\n",
       "      <td>True</td>\n",
       "      <td>False</td>\n",
       "    </tr>\n",
       "    <tr>\n",
       "      <th>3</th>\n",
       "      <td>arnold-j</td>\n",
       "      <td>text/plain; charset=us-ascii</td>\n",
       "      <td>7bit</td>\n",
       "      <td>john.arnold@enron.com</td>\n",
       "      <td>NaN</td>\n",
       "      <td>Arnold-J</td>\n",
       "      <td>Jarnold.nsf</td>\n",
       "      <td></td>\n",
       "      <td></td>\n",
       "      <td>False</td>\n",
       "      <td>External</td>\n",
       "      <td>9.0</td>\n",
       "      <td>False</td>\n",
       "      <td>True</td>\n",
       "    </tr>\n",
       "    <tr>\n",
       "      <th>4</th>\n",
       "      <td>arnold-j</td>\n",
       "      <td>text/plain; charset=us-ascii</td>\n",
       "      <td>7bit</td>\n",
       "      <td>soblander@carrfut.com</td>\n",
       "      <td>NaN</td>\n",
       "      <td>Arnold-J</td>\n",
       "      <td>Jarnold.nsf</td>\n",
       "      <td></td>\n",
       "      <td></td>\n",
       "      <td>False</td>\n",
       "      <td>External</td>\n",
       "      <td>352.0</td>\n",
       "      <td>False</td>\n",
       "      <td>False</td>\n",
       "    </tr>\n",
       "  </tbody>\n",
       "</table>\n",
       "</div>"
      ],
      "text/plain": [
       "  Folder-Name                        Content-Type Content-Transfer-Encoding  \\\n",
       "0    arnold-j  text/plain; charset=ANSI_X3.4-1968                      7bit   \n",
       "1    arnold-j        text/plain; charset=us-ascii                      7bit   \n",
       "2    arnold-j        text/plain; charset=us-ascii                      7bit   \n",
       "3    arnold-j        text/plain; charset=us-ascii                      7bit   \n",
       "4    arnold-j        text/plain; charset=us-ascii                      7bit   \n",
       "\n",
       "                                                X-To X-bcc  X-Origin  \\\n",
       "0                  \"John Arnold\" <jarnold@enron.com>   NaN  Arnold-J   \n",
       "1                              John.Arnold@enron.com   NaN  Arnold-J   \n",
       "2  **ICEHELPDESK <**ICEHELPDESK@intcx.com>, **Int...   NaN  Arnold-J   \n",
       "3                              john.arnold@enron.com   NaN  Arnold-J   \n",
       "4                              soblander@carrfut.com   NaN  Arnold-J   \n",
       "\n",
       "    X-FileName Time Attendees  POI-Present Sender-Type  \\\n",
       "0  Jarnold.nsf                       False    External   \n",
       "1  Jarnold.nsf                       False    External   \n",
       "2  Jarnold.nsf                       False    External   \n",
       "3  Jarnold.nsf                       False    External   \n",
       "4  Jarnold.nsf                       False    External   \n",
       "\n",
       "   Unique-Mails-From-Sender  Low-Comm  Contains-Reply-Forwards  \n",
       "0                      18.0     False                    False  \n",
       "1                       4.0      True                    False  \n",
       "2                       3.0      True                    False  \n",
       "3                       9.0     False                     True  \n",
       "4                     352.0     False                    False  "
      ]
     },
     "execution_count": 34,
     "metadata": {},
     "output_type": "execute_result"
    }
   ],
   "source": [
    "df=df.drop(['Folder-User','Mime-Version','Message-ID','Date','From','To','Subject','X-From','X-cc','X-Folder','Body','Cc','Bcc','Re','Source','Mail-ID',\n",
    "            'Suspicious-Folders'], axis=1)\n",
    "df.head()"
   ]
  },
  {
   "cell_type": "code",
   "execution_count": 35,
   "id": "08ceb480-67cd-4bff-94cc-11a8afb4f919",
   "metadata": {},
   "outputs": [
    {
     "data": {
      "text/plain": [
       "Folder-Name                       0\n",
       "Content-Type                      0\n",
       "Content-Transfer-Encoding         0\n",
       "X-Origin                          0\n",
       "Time                              0\n",
       "Attendees                         0\n",
       "POI-Present                       0\n",
       "Sender-Type                       0\n",
       "Unique-Mails-From-Sender          0\n",
       "Low-Comm                          0\n",
       "Contains-Reply-Forwards           0\n",
       "X-FileName                     2690\n",
       "X-To                           8179\n",
       "X-bcc                        447240\n",
       "dtype: int64"
      ]
     },
     "execution_count": 35,
     "metadata": {},
     "output_type": "execute_result"
    }
   ],
   "source": [
    "#check columns with null\n",
    "df.isnull().sum().sort_values()"
   ]
  },
  {
   "cell_type": "code",
   "execution_count": 36,
   "id": "96d8e75e-2608-4fa7-9ac5-4fdc1dc9792b",
   "metadata": {},
   "outputs": [
    {
     "data": {
      "text/html": [
       "<div>\n",
       "<style scoped>\n",
       "    .dataframe tbody tr th:only-of-type {\n",
       "        vertical-align: middle;\n",
       "    }\n",
       "\n",
       "    .dataframe tbody tr th {\n",
       "        vertical-align: top;\n",
       "    }\n",
       "\n",
       "    .dataframe thead th {\n",
       "        text-align: right;\n",
       "    }\n",
       "</style>\n",
       "<table border=\"1\" class=\"dataframe\">\n",
       "  <thead>\n",
       "    <tr style=\"text-align: right;\">\n",
       "      <th></th>\n",
       "      <th>Folder-Name</th>\n",
       "      <th>Content-Type</th>\n",
       "      <th>Content-Transfer-Encoding</th>\n",
       "      <th>X-To</th>\n",
       "      <th>X-Origin</th>\n",
       "      <th>X-FileName</th>\n",
       "      <th>Time</th>\n",
       "      <th>Attendees</th>\n",
       "      <th>POI-Present</th>\n",
       "      <th>Sender-Type</th>\n",
       "      <th>Unique-Mails-From-Sender</th>\n",
       "      <th>Low-Comm</th>\n",
       "      <th>Contains-Reply-Forwards</th>\n",
       "    </tr>\n",
       "  </thead>\n",
       "  <tbody>\n",
       "    <tr>\n",
       "      <th>0</th>\n",
       "      <td>arnold-j</td>\n",
       "      <td>text/plain; charset=ANSI_X3.4-1968</td>\n",
       "      <td>7bit</td>\n",
       "      <td>\"John Arnold\" &lt;jarnold@enron.com&gt;</td>\n",
       "      <td>Arnold-J</td>\n",
       "      <td>Jarnold.nsf</td>\n",
       "      <td></td>\n",
       "      <td></td>\n",
       "      <td>False</td>\n",
       "      <td>External</td>\n",
       "      <td>18.0</td>\n",
       "      <td>False</td>\n",
       "      <td>False</td>\n",
       "    </tr>\n",
       "    <tr>\n",
       "      <th>1</th>\n",
       "      <td>arnold-j</td>\n",
       "      <td>text/plain; charset=us-ascii</td>\n",
       "      <td>7bit</td>\n",
       "      <td>John.Arnold@enron.com</td>\n",
       "      <td>Arnold-J</td>\n",
       "      <td>Jarnold.nsf</td>\n",
       "      <td></td>\n",
       "      <td></td>\n",
       "      <td>False</td>\n",
       "      <td>External</td>\n",
       "      <td>4.0</td>\n",
       "      <td>True</td>\n",
       "      <td>False</td>\n",
       "    </tr>\n",
       "    <tr>\n",
       "      <th>2</th>\n",
       "      <td>arnold-j</td>\n",
       "      <td>text/plain; charset=us-ascii</td>\n",
       "      <td>7bit</td>\n",
       "      <td>**ICEHELPDESK &lt;**ICEHELPDESK@intcx.com&gt;, **Int...</td>\n",
       "      <td>Arnold-J</td>\n",
       "      <td>Jarnold.nsf</td>\n",
       "      <td></td>\n",
       "      <td></td>\n",
       "      <td>False</td>\n",
       "      <td>External</td>\n",
       "      <td>3.0</td>\n",
       "      <td>True</td>\n",
       "      <td>False</td>\n",
       "    </tr>\n",
       "    <tr>\n",
       "      <th>3</th>\n",
       "      <td>arnold-j</td>\n",
       "      <td>text/plain; charset=us-ascii</td>\n",
       "      <td>7bit</td>\n",
       "      <td>john.arnold@enron.com</td>\n",
       "      <td>Arnold-J</td>\n",
       "      <td>Jarnold.nsf</td>\n",
       "      <td></td>\n",
       "      <td></td>\n",
       "      <td>False</td>\n",
       "      <td>External</td>\n",
       "      <td>9.0</td>\n",
       "      <td>False</td>\n",
       "      <td>True</td>\n",
       "    </tr>\n",
       "    <tr>\n",
       "      <th>4</th>\n",
       "      <td>arnold-j</td>\n",
       "      <td>text/plain; charset=us-ascii</td>\n",
       "      <td>7bit</td>\n",
       "      <td>soblander@carrfut.com</td>\n",
       "      <td>Arnold-J</td>\n",
       "      <td>Jarnold.nsf</td>\n",
       "      <td></td>\n",
       "      <td></td>\n",
       "      <td>False</td>\n",
       "      <td>External</td>\n",
       "      <td>352.0</td>\n",
       "      <td>False</td>\n",
       "      <td>False</td>\n",
       "    </tr>\n",
       "  </tbody>\n",
       "</table>\n",
       "</div>"
      ],
      "text/plain": [
       "  Folder-Name                        Content-Type Content-Transfer-Encoding  \\\n",
       "0    arnold-j  text/plain; charset=ANSI_X3.4-1968                      7bit   \n",
       "1    arnold-j        text/plain; charset=us-ascii                      7bit   \n",
       "2    arnold-j        text/plain; charset=us-ascii                      7bit   \n",
       "3    arnold-j        text/plain; charset=us-ascii                      7bit   \n",
       "4    arnold-j        text/plain; charset=us-ascii                      7bit   \n",
       "\n",
       "                                                X-To  X-Origin   X-FileName  \\\n",
       "0                  \"John Arnold\" <jarnold@enron.com>  Arnold-J  Jarnold.nsf   \n",
       "1                              John.Arnold@enron.com  Arnold-J  Jarnold.nsf   \n",
       "2  **ICEHELPDESK <**ICEHELPDESK@intcx.com>, **Int...  Arnold-J  Jarnold.nsf   \n",
       "3                              john.arnold@enron.com  Arnold-J  Jarnold.nsf   \n",
       "4                              soblander@carrfut.com  Arnold-J  Jarnold.nsf   \n",
       "\n",
       "  Time Attendees  POI-Present Sender-Type  Unique-Mails-From-Sender  Low-Comm  \\\n",
       "0                       False    External                      18.0     False   \n",
       "1                       False    External                       4.0      True   \n",
       "2                       False    External                       3.0      True   \n",
       "3                       False    External                       9.0     False   \n",
       "4                       False    External                     352.0     False   \n",
       "\n",
       "   Contains-Reply-Forwards  \n",
       "0                    False  \n",
       "1                    False  \n",
       "2                    False  \n",
       "3                     True  \n",
       "4                    False  "
      ]
     },
     "execution_count": 36,
     "metadata": {},
     "output_type": "execute_result"
    }
   ],
   "source": [
    "df=df.drop(['X-bcc'], axis=1).dropna()\n",
    "df.head()"
   ]
  },
  {
   "cell_type": "code",
   "execution_count": 37,
   "id": "4eea03ae-c27e-4dea-9cf7-ee41cbd01830",
   "metadata": {},
   "outputs": [
    {
     "data": {
      "text/plain": [
       "(436571, 13)"
      ]
     },
     "execution_count": 37,
     "metadata": {},
     "output_type": "execute_result"
    }
   ],
   "source": [
    "df.shape"
   ]
  },
  {
   "cell_type": "code",
   "execution_count": 38,
   "id": "cd3c7b14-a856-4b8d-a975-07272158ca71",
   "metadata": {},
   "outputs": [
    {
     "data": {
      "text/html": [
       "<div>\n",
       "<style scoped>\n",
       "    .dataframe tbody tr th:only-of-type {\n",
       "        vertical-align: middle;\n",
       "    }\n",
       "\n",
       "    .dataframe tbody tr th {\n",
       "        vertical-align: top;\n",
       "    }\n",
       "\n",
       "    .dataframe thead th {\n",
       "        text-align: right;\n",
       "    }\n",
       "</style>\n",
       "<table border=\"1\" class=\"dataframe\">\n",
       "  <thead>\n",
       "    <tr style=\"text-align: right;\">\n",
       "      <th></th>\n",
       "      <th>Folder-Name</th>\n",
       "      <th>Content-Type</th>\n",
       "      <th>Content-Transfer-Encoding</th>\n",
       "      <th>X-To</th>\n",
       "      <th>X-Origin</th>\n",
       "      <th>X-FileName</th>\n",
       "      <th>Time</th>\n",
       "      <th>Attendees</th>\n",
       "      <th>POI-Present</th>\n",
       "      <th>Sender-Type</th>\n",
       "      <th>Unique-Mails-From-Sender</th>\n",
       "      <th>Low-Comm</th>\n",
       "      <th>Contains-Reply-Forwards</th>\n",
       "    </tr>\n",
       "  </thead>\n",
       "  <tbody>\n",
       "    <tr>\n",
       "      <th>0</th>\n",
       "      <td>1</td>\n",
       "      <td>1</td>\n",
       "      <td>1</td>\n",
       "      <td>2988</td>\n",
       "      <td>4</td>\n",
       "      <td>64</td>\n",
       "      <td>0</td>\n",
       "      <td>0</td>\n",
       "      <td>0</td>\n",
       "      <td>0</td>\n",
       "      <td>18.0</td>\n",
       "      <td>0</td>\n",
       "      <td>0</td>\n",
       "    </tr>\n",
       "    <tr>\n",
       "      <th>1</th>\n",
       "      <td>1</td>\n",
       "      <td>2</td>\n",
       "      <td>1</td>\n",
       "      <td>36621</td>\n",
       "      <td>4</td>\n",
       "      <td>64</td>\n",
       "      <td>0</td>\n",
       "      <td>0</td>\n",
       "      <td>0</td>\n",
       "      <td>0</td>\n",
       "      <td>4.0</td>\n",
       "      <td>1</td>\n",
       "      <td>0</td>\n",
       "    </tr>\n",
       "    <tr>\n",
       "      <th>2</th>\n",
       "      <td>1</td>\n",
       "      <td>2</td>\n",
       "      <td>1</td>\n",
       "      <td>10480</td>\n",
       "      <td>4</td>\n",
       "      <td>64</td>\n",
       "      <td>0</td>\n",
       "      <td>0</td>\n",
       "      <td>0</td>\n",
       "      <td>0</td>\n",
       "      <td>3.0</td>\n",
       "      <td>1</td>\n",
       "      <td>0</td>\n",
       "    </tr>\n",
       "    <tr>\n",
       "      <th>3</th>\n",
       "      <td>1</td>\n",
       "      <td>2</td>\n",
       "      <td>1</td>\n",
       "      <td>68130</td>\n",
       "      <td>4</td>\n",
       "      <td>64</td>\n",
       "      <td>0</td>\n",
       "      <td>0</td>\n",
       "      <td>0</td>\n",
       "      <td>0</td>\n",
       "      <td>9.0</td>\n",
       "      <td>0</td>\n",
       "      <td>1</td>\n",
       "    </tr>\n",
       "    <tr>\n",
       "      <th>4</th>\n",
       "      <td>1</td>\n",
       "      <td>2</td>\n",
       "      <td>1</td>\n",
       "      <td>71437</td>\n",
       "      <td>4</td>\n",
       "      <td>64</td>\n",
       "      <td>0</td>\n",
       "      <td>0</td>\n",
       "      <td>0</td>\n",
       "      <td>0</td>\n",
       "      <td>352.0</td>\n",
       "      <td>0</td>\n",
       "      <td>0</td>\n",
       "    </tr>\n",
       "  </tbody>\n",
       "</table>\n",
       "</div>"
      ],
      "text/plain": [
       "   Folder-Name  Content-Type  Content-Transfer-Encoding   X-To  X-Origin  \\\n",
       "0            1             1                          1   2988         4   \n",
       "1            1             2                          1  36621         4   \n",
       "2            1             2                          1  10480         4   \n",
       "3            1             2                          1  68130         4   \n",
       "4            1             2                          1  71437         4   \n",
       "\n",
       "   X-FileName  Time  Attendees  POI-Present  Sender-Type  \\\n",
       "0          64     0          0            0            0   \n",
       "1          64     0          0            0            0   \n",
       "2          64     0          0            0            0   \n",
       "3          64     0          0            0            0   \n",
       "4          64     0          0            0            0   \n",
       "\n",
       "   Unique-Mails-From-Sender  Low-Comm  Contains-Reply-Forwards  \n",
       "0                      18.0         0                        0  \n",
       "1                       4.0         1                        0  \n",
       "2                       3.0         1                        0  \n",
       "3                       9.0         0                        1  \n",
       "4                     352.0         0                        0  "
      ]
     },
     "execution_count": 38,
     "metadata": {},
     "output_type": "execute_result"
    }
   ],
   "source": [
    "le = LabelEncoder()\n",
    "categorical = ['Folder-Name','Content-Type','Content-Transfer-Encoding','X-To','X-Origin','X-FileName','Time','Attendees','POI-Present','Sender-Type',\n",
    "               'Low-Comm','Contains-Reply-Forwards']\n",
    "for variable in categorical:\n",
    "    df[variable] = le.fit_transform(df[variable])\n",
    "df.head()"
   ]
  },
  {
   "cell_type": "code",
   "execution_count": 39,
   "id": "51099a54-292e-457d-bfc6-0118faf9de62",
   "metadata": {},
   "outputs": [
    {
     "data": {
      "text/html": [
       "<div>\n",
       "<style scoped>\n",
       "    .dataframe tbody tr th:only-of-type {\n",
       "        vertical-align: middle;\n",
       "    }\n",
       "\n",
       "    .dataframe tbody tr th {\n",
       "        vertical-align: top;\n",
       "    }\n",
       "\n",
       "    .dataframe thead tr th {\n",
       "        text-align: left;\n",
       "    }\n",
       "</style>\n",
       "<table border=\"1\" class=\"dataframe\">\n",
       "  <thead>\n",
       "    <tr>\n",
       "      <th></th>\n",
       "      <th>Folder-Name</th>\n",
       "      <th>Content-Type</th>\n",
       "      <th>Content-Transfer-Encoding</th>\n",
       "      <th>X-To</th>\n",
       "      <th>X-Origin</th>\n",
       "      <th>X-FileName</th>\n",
       "      <th>Time</th>\n",
       "      <th>Attendees</th>\n",
       "      <th>POI-Present</th>\n",
       "      <th>Sender-Type</th>\n",
       "      <th>Unique-Mails-From-Sender</th>\n",
       "      <th>Low-Comm</th>\n",
       "      <th>Contains-Reply-Forwards</th>\n",
       "    </tr>\n",
       "  </thead>\n",
       "  <tbody>\n",
       "    <tr>\n",
       "      <th>0</th>\n",
       "      <td>0.006849</td>\n",
       "      <td>0.5</td>\n",
       "      <td>0.333333</td>\n",
       "      <td>0.041302</td>\n",
       "      <td>0.015748</td>\n",
       "      <td>0.151659</td>\n",
       "      <td>0.0</td>\n",
       "      <td>0.0</td>\n",
       "      <td>0.0</td>\n",
       "      <td>0.0</td>\n",
       "      <td>0.003281</td>\n",
       "      <td>0.0</td>\n",
       "      <td>0.0</td>\n",
       "    </tr>\n",
       "    <tr>\n",
       "      <th>1</th>\n",
       "      <td>0.006849</td>\n",
       "      <td>1.0</td>\n",
       "      <td>0.333333</td>\n",
       "      <td>0.506192</td>\n",
       "      <td>0.015748</td>\n",
       "      <td>0.151659</td>\n",
       "      <td>0.0</td>\n",
       "      <td>0.0</td>\n",
       "      <td>0.0</td>\n",
       "      <td>0.0</td>\n",
       "      <td>0.000729</td>\n",
       "      <td>1.0</td>\n",
       "      <td>0.0</td>\n",
       "    </tr>\n",
       "    <tr>\n",
       "      <th>2</th>\n",
       "      <td>0.006849</td>\n",
       "      <td>1.0</td>\n",
       "      <td>0.333333</td>\n",
       "      <td>0.144859</td>\n",
       "      <td>0.015748</td>\n",
       "      <td>0.151659</td>\n",
       "      <td>0.0</td>\n",
       "      <td>0.0</td>\n",
       "      <td>0.0</td>\n",
       "      <td>0.0</td>\n",
       "      <td>0.000547</td>\n",
       "      <td>1.0</td>\n",
       "      <td>0.0</td>\n",
       "    </tr>\n",
       "    <tr>\n",
       "      <th>3</th>\n",
       "      <td>0.006849</td>\n",
       "      <td>1.0</td>\n",
       "      <td>0.333333</td>\n",
       "      <td>0.941724</td>\n",
       "      <td>0.015748</td>\n",
       "      <td>0.151659</td>\n",
       "      <td>0.0</td>\n",
       "      <td>0.0</td>\n",
       "      <td>0.0</td>\n",
       "      <td>0.0</td>\n",
       "      <td>0.001641</td>\n",
       "      <td>0.0</td>\n",
       "      <td>1.0</td>\n",
       "    </tr>\n",
       "    <tr>\n",
       "      <th>4</th>\n",
       "      <td>0.006849</td>\n",
       "      <td>1.0</td>\n",
       "      <td>0.333333</td>\n",
       "      <td>0.987435</td>\n",
       "      <td>0.015748</td>\n",
       "      <td>0.151659</td>\n",
       "      <td>0.0</td>\n",
       "      <td>0.0</td>\n",
       "      <td>0.0</td>\n",
       "      <td>0.0</td>\n",
       "      <td>0.064163</td>\n",
       "      <td>0.0</td>\n",
       "      <td>0.0</td>\n",
       "    </tr>\n",
       "  </tbody>\n",
       "</table>\n",
       "</div>"
      ],
      "text/plain": [
       "  Folder-Name Content-Type Content-Transfer-Encoding      X-To  X-Origin  \\\n",
       "0    0.006849          0.5                  0.333333  0.041302  0.015748   \n",
       "1    0.006849          1.0                  0.333333  0.506192  0.015748   \n",
       "2    0.006849          1.0                  0.333333  0.144859  0.015748   \n",
       "3    0.006849          1.0                  0.333333  0.941724  0.015748   \n",
       "4    0.006849          1.0                  0.333333  0.987435  0.015748   \n",
       "\n",
       "  X-FileName Time Attendees POI-Present Sender-Type Unique-Mails-From-Sender  \\\n",
       "0   0.151659  0.0       0.0         0.0         0.0                 0.003281   \n",
       "1   0.151659  0.0       0.0         0.0         0.0                 0.000729   \n",
       "2   0.151659  0.0       0.0         0.0         0.0                 0.000547   \n",
       "3   0.151659  0.0       0.0         0.0         0.0                 0.001641   \n",
       "4   0.151659  0.0       0.0         0.0         0.0                 0.064163   \n",
       "\n",
       "  Low-Comm Contains-Reply-Forwards  \n",
       "0      0.0                     0.0  \n",
       "1      1.0                     0.0  \n",
       "2      1.0                     0.0  \n",
       "3      0.0                     1.0  \n",
       "4      0.0                     0.0  "
      ]
     },
     "execution_count": 39,
     "metadata": {},
     "output_type": "execute_result"
    }
   ],
   "source": [
    "cols = df.columns\n",
    "ms = MinMaxScaler()\n",
    "df = ms.fit_transform(df)\n",
    "df = pd.DataFrame(df, columns=[cols])\n",
    "df.head()"
   ]
  },
  {
   "cell_type": "code",
   "execution_count": 8,
   "id": "c68ef5af-0370-42da-92b8-f5e8caa7d288",
   "metadata": {},
   "outputs": [
    {
     "name": "stdout",
     "output_type": "stream",
     "text": [
      "k=2 done\n",
      "k=3 done\n",
      "k=4 done\n",
      "k=5 done\n",
      "k=6 done\n",
      "k=7 done\n",
      "k=8 done\n",
      "k=9 done\n",
      "k=10 done\n",
      "k=11 done\n",
      "k=12 done\n",
      "k=13 done\n",
      "k=14 done\n",
      "k=15 done\n",
      "k=16 done\n",
      "k=17 done\n",
      "k=18 done\n",
      "k=19 done\n",
      "k=20 done\n",
      "k=21 done\n",
      "k=22 done\n",
      "k=23 done\n",
      "k=24 done\n",
      "k=25 done\n",
      "k=26 done\n",
      "k=27 done\n",
      "k=28 done\n",
      "k=29 done\n",
      "k=30 done\n"
     ]
    }
   ],
   "source": [
    "silhouette_coefficient = []\n",
    "for i in range(2,31):\n",
    "    kmeans = KMeans(n_clusters=i, init='random', max_iter = 300, n_init = 10, random_state=0)\n",
    "    kmeans.fit(df)\n",
    "    silhouette_coefficient.append(silhouette_score(df, kmeans.labels_))\n",
    "    print(\"k=%d done\" % i)"
   ]
  },
  {
   "cell_type": "code",
   "execution_count": 9,
   "id": "a4e671d7-bbb2-4a33-8cf4-f0fa5c6ce179",
   "metadata": {},
   "outputs": [
    {
     "data": {
      "image/png": "[encoded data removed]",
      "text/plain": [
       "<Figure size 640x480 with 1 Axes>"
      ]
     },
     "metadata": {},
     "output_type": "display_data"
    }
   ],
   "source": [
    "plt.plot(range(2,31), silhouette_coefficient, 'bx-')\n",
    "plt.xlabel('Number of clusters')\n",
    "plt.ylabel('Silhouette Coefficient')\n",
    "plt.show()"
   ]
  },
  {
   "cell_type": "code",
   "execution_count": 40,
   "id": "c7625553-5ac8-4980-95cd-a015993f7d93",
   "metadata": {},
   "outputs": [
    {
     "data": {
      "text/plain": [
       "1.1016371250152588"
      ]
     },
     "execution_count": 40,
     "metadata": {},
     "output_type": "execute_result"
    }
   ],
   "source": [
    "#determine time taken for k means\n",
    "kmeans = KMeans(n_clusters=3, init='random', max_iter = 300, n_init = 10, random_state=0) #4 is best from silhouette coefficient\n",
    "start_time = time.time()\n",
    "kmeans.fit(df)\n",
    "end_time = time.time()\n",
    "end_time-start_time"
   ]
  },
  {
   "cell_type": "code",
   "execution_count": 41,
   "id": "f9a3d2b9-4ddd-4c2e-b5ed-8107b6921926",
   "metadata": {},
   "outputs": [
    {
     "data": {
      "text/plain": [
       "221808.66536892115"
      ]
     },
     "execution_count": 41,
     "metadata": {},
     "output_type": "execute_result"
    }
   ],
   "source": [
    "#sum of squared L2 distance\n",
    "kmeans.inertia_"
   ]
  },
  {
   "cell_type": "code",
   "execution_count": 42,
   "id": "56b0531b-e0bb-4f13-aba9-6a6281c6e171",
   "metadata": {},
   "outputs": [
    {
     "data": {
      "text/plain": [
       "0.32288713713049044"
      ]
     },
     "execution_count": 42,
     "metadata": {},
     "output_type": "execute_result"
    }
   ],
   "source": [
    "#silhouette coefficient\n",
    "silhouette_score(df, kmeans.labels_)"
   ]
  }
 ],
 "metadata": {
  "kernelspec": {
   "display_name": "Python 3 (ipykernel)",
   "language": "python",
   "name": "python3"
  },
  "language_info": {
   "codemirror_mode": {
    "name": "ipython",
    "version": 3
   },
   "file_extension": ".py",
   "mimetype": "text/x-python",
   "name": "python",
   "nbconvert_exporter": "python",
   "pygments_lexer": "ipython3",
   "version": "3.11.10"
  }
 },
 "nbformat": 4,
 "nbformat_minor": 5
}
